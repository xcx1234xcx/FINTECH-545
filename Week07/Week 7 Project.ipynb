{
 "cells": [
  {
   "cell_type": "code",
   "execution_count": 8,
   "metadata": {
    "vscode": {
     "languageId": "plaintext"
    }
   },
   "outputs": [],
   "source": [
    "from JEFF_Lib import (\n",
    "    cov_skip_miss, corr_skip_miss, cov_pairwise, corr_pairwise, ewCovar, ewCorr,\n",
    "    cov_with_different_ew_var_corr, near_psd, _getAplus, _getPS, _getPu, wgtNorm,\n",
    "    higham_psd, chol_psd, simulate_normal, simulate_pca, FittedModel, fit_normal,\n",
    "    fit_general_t, general_t_ll, fit_regression_t, return_calculate, VaR_cal, simple_VaR,\n",
    "    simple_VaR_sim, simple_ES, simple_ES_sim, VaR_ES, Historical_VaR_ES\n",
    ")\n",
    "\n",
    "import autograd.numpy as np\n",
    "import pandas as pd\n",
    "from autograd.scipy.stats import norm\n",
    "from autograd import grad\n",
    "from datetime import date\n",
    "from scipy.optimize import brentq\n",
    "from statsmodels.api import OLS, add_constant\n",
    "from scipy.optimize import minimize"
   ]
  },
  {
   "cell_type": "markdown",
   "metadata": {
    "vscode": {
     "languageId": "plaintext"
    }
   },
   "source": [
    "# Problem 1"
   ]
  },
  {
   "cell_type": "code",
   "execution_count": 2,
   "metadata": {
    "vscode": {
     "languageId": "plaintext"
    }
   },
   "outputs": [],
   "source": [
    "# Given data\n",
    "underlying = 151.03\n",
    "strike = 165\n",
    "rf = 4.25 / 100\n",
    "q = 0.53 / 100\n",
    "b = rf - q\n",
    "ivol = 0.2\n",
    "\n",
    "current_date = \"2022-03-13\"\n",
    "expiration_date = \"2022-04-15\"\n",
    "days = (np.datetime64(expiration_date) - np.datetime64(current_date)).astype(int)\n",
    "\n",
    "tradingDayYear = 365\n",
    "ttm = days / tradingDayYear"
   ]
  },
  {
   "cell_type": "code",
   "execution_count": 3,
   "metadata": {},
   "outputs": [],
   "source": [
    "def gbsm_greek(call, underlying, strike, ttm, rf, b, ivol, include_greeks=False):\n",
    "    d1 = (np.log(underlying / strike) + (b + ivol**2 / 2) * ttm) / (ivol * np.sqrt(ttm))\n",
    "    d2 = d1 - ivol * np.sqrt(ttm)\n",
    "    \n",
    "    if call:\n",
    "        price = underlying * np.exp((b - rf) * ttm) * norm.cdf(d1) - strike * np.exp(-rf * ttm) * norm.cdf(d2)\n",
    "    else:\n",
    "        price = strike * np.exp(-rf * ttm) * norm.cdf(-d2) - underlying * np.exp((b - rf) * ttm) * norm.cdf(-d1)\n",
    "    \n",
    "    result = {\"price\": price}\n",
    "    \n",
    "    if include_greeks:\n",
    "        gamma = norm.pdf(d1) * np.exp((b - rf) * ttm) / (underlying * ivol * np.sqrt(ttm))\n",
    "        vega = underlying * np.exp((b - rf) * ttm) * norm.pdf(d1) * np.sqrt(ttm)\n",
    "        \n",
    "        if call:\n",
    "            delta = np.exp((b - rf) * ttm) * norm.cdf(d1)\n",
    "            \n",
    "            theta = (-underlying * np.exp((b - rf) * ttm) * norm.pdf(d1) * ivol / (2 * np.sqrt(ttm))\n",
    "                     - (b - rf) * underlying * np.exp((b - rf) * ttm) * norm.cdf(d1)\n",
    "                     - rf * strike * np.exp(-rf * ttm) * norm.cdf(d2))\n",
    "            \n",
    "            rho = ttm * strike * np.exp(-rf * ttm) * norm.cdf(d2)\n",
    "            \n",
    "            cRho = ttm * underlying * np.exp((b - rf) * ttm) * norm.cdf(d1)\n",
    "        else:\n",
    "            delta = np.exp((b - rf) * ttm) * (norm.cdf(d1) - 1)\n",
    "            \n",
    "            theta = (-underlying * np.exp((b - rf) * ttm) * norm.pdf(d1) * ivol / (2 * np.sqrt(ttm))\n",
    "                     + (b - rf) * underlying * np.exp((b - rf) * ttm) * norm.cdf(-d1)\n",
    "                     + rf * strike * np.exp(-rf * ttm) * norm.cdf(-d2))\n",
    "            \n",
    "            rho = -ttm * strike * np.exp(-rf * ttm) * norm.cdf(-d2)\n",
    "            \n",
    "            cRho = -ttm * underlying * np.exp((b - rf) * ttm) * norm.cdf(-d1)\n",
    "        \n",
    "        result.update({\n",
    "            \"delta\": delta,\n",
    "            \"gamma\": gamma,\n",
    "            \"vega\": vega,\n",
    "            \"theta\": theta,\n",
    "            \"rho\": rho,\n",
    "            \"cRho\": cRho\n",
    "        })\n",
    "    \n",
    "    return result"
   ]
  },
  {
   "cell_type": "code",
   "execution_count": 4,
   "metadata": {},
   "outputs": [],
   "source": [
    "# Calculate GBSM values for call and put\n",
    "bsm_call = gbsm_greek(True, underlying, strike, ttm, rf, b, ivol, include_greeks=True)\n",
    "bsm_put = gbsm_greek(False, underlying, strike, ttm, rf, b, ivol, include_greeks=True)"
   ]
  },
  {
   "cell_type": "code",
   "execution_count": 5,
   "metadata": {},
   "outputs": [
    {
     "name": "stdout",
     "output_type": "stream",
     "text": [
      "      Greeks  Call Option  Put Option\n",
      "0      Delta     0.082971   -0.916550\n",
      "1      Gamma     0.016823    0.016823\n",
      "2       Vega     6.938711    6.938711\n",
      "3      Theta    -8.126522   -1.940991\n",
      "4        Rho     1.102594  -13.758003\n",
      "5  Carry Rho     1.132954  -12.515272\n"
     ]
    }
   ],
   "source": [
    "# Create a DataFrame for display\n",
    "bsm_results = pd.DataFrame({\n",
    "    \"Greeks\": [\"Delta\", \"Gamma\", \"Vega\", \"Theta\", \"Rho\", \"Carry Rho\"],\n",
    "    \"Call Option\": [\n",
    "        bsm_call.get(\"delta\"),\n",
    "        bsm_call.get(\"gamma\"),\n",
    "        bsm_call.get(\"vega\"),\n",
    "        bsm_call.get(\"theta\"),\n",
    "        bsm_call.get(\"rho\"),\n",
    "        bsm_call.get(\"cRho\")\n",
    "    ],\n",
    "    \"Put Option\": [\n",
    "        bsm_put.get(\"delta\"),\n",
    "        bsm_put.get(\"gamma\"),\n",
    "        bsm_put.get(\"vega\"),\n",
    "        bsm_put.get(\"theta\"),\n",
    "        bsm_put.get(\"rho\"),\n",
    "        bsm_put.get(\"cRho\")\n",
    "    ]\n",
    "})\n",
    "\n",
    "print(bsm_results)"
   ]
  },
  {
   "cell_type": "code",
   "execution_count": 6,
   "metadata": {},
   "outputs": [],
   "source": [
    "# Input vector - Ensure all elements are floats\n",
    "x = np.array([float(underlying), float(strike), float(ttm), float(rf), float(b), float(ivol)])"
   ]
  },
  {
   "cell_type": "code",
   "execution_count": 9,
   "metadata": {
    "scrolled": true
   },
   "outputs": [],
   "source": [
    "# Define functions for automatic differentiation\n",
    "def f_call(x):\n",
    "    return gbsm_greek(True, x[0], x[1], x[2], x[3], x[4], x[5]).get(\"price\")\n",
    "\n",
    "def f_put(x):\n",
    "    return gbsm_greek(False, x[0], x[1], x[2], x[3], x[4], x[5]).get(\"price\")\n",
    "\n",
    "# Gradient for call and put option prices\n",
    "call_grad = grad(f_call)(x)\n",
    "put_grad = grad(f_put)(x)"
   ]
  },
  {
   "cell_type": "code",
   "execution_count": 10,
   "metadata": {},
   "outputs": [],
   "source": [
    "# Derivative of Delta (Gamma)\n",
    "def delta_call(x):\n",
    "    return gbsm_greek(True, x[0], x[1], x[2], x[3], x[4], x[5], include_greeks=True).get(\"delta\")\n",
    "\n",
    "def delta_put(x):\n",
    "    return gbsm_greek(False, x[0], x[1], x[2], x[3], x[4], x[5], include_greeks=True).get(\"delta\")\n",
    "\n",
    "# Gamma for call and put options\n",
    "call_gamma = grad(delta_call)(x)[0]  \n",
    "put_gamma = grad(delta_put)(x)[0]    "
   ]
  },
  {
   "cell_type": "code",
   "execution_count": 11,
   "metadata": {},
   "outputs": [
    {
     "name": "stdout",
     "output_type": "stream",
     "text": [
      "     Greeks  Call Option  Put Option\n",
      "0     Delta     0.082971   -0.916550\n",
      "1     Gamma     0.016823    0.016823\n",
      "2      Vega     6.938711    6.938711\n",
      "3     Theta    -8.126522   -1.940991\n",
      "4       Rho    -0.030360   -1.242731\n",
      "5  CarryRho     1.132954  -12.515272\n"
     ]
    }
   ],
   "source": [
    "# Constructing the results table as a DataFrame\n",
    "results_df = pd.DataFrame({\n",
    "    \"Greeks\": [\"Delta\", \"Gamma\", \"Vega\", \"Theta\", \"Rho\", \"CarryRho\"],\n",
    "    \"Call Option\": [\n",
    "        call_grad[0],  \n",
    "        call_gamma,    \n",
    "        call_grad[5],  \n",
    "        -call_grad[2], \n",
    "        call_grad[3],  \n",
    "        call_grad[4]   \n",
    "    ],\n",
    "    \"Put Option\": [\n",
    "        put_grad[0],   \n",
    "        put_gamma,     \n",
    "        put_grad[5],   \n",
    "        -put_grad[2],  \n",
    "        put_grad[3],   \n",
    "        put_grad[4]    \n",
    "    ]\n",
    "})\n",
    "\n",
    "# Display the DataFrame\n",
    "print(results_df)"
   ]
  },
  {
   "cell_type": "code",
   "execution_count": 12,
   "metadata": {},
   "outputs": [],
   "source": [
    "def bt_american(call, underlying, strike, ttm, rf, b, ivol, N):\n",
    "    \n",
    "    dt = ttm / N \n",
    "    u = np.exp(ivol * np.sqrt(dt))  \n",
    "    d = 1 / u  \n",
    "    pu = (np.exp(b * dt) - d) / (u - d)  \n",
    "    pd = 1.0 - pu  \n",
    "    df = np.exp(-rf * dt)  \n",
    "    z = 1 if call else -1 \n",
    "\n",
    "    # Helper functions for node indexing\n",
    "    def n_node_func(n):\n",
    "        return (n + 1) * (n + 2) // 2  \n",
    "\n",
    "    def idx_func(i, j):\n",
    "        return n_node_func(j - 1) + i  \n",
    "\n",
    "    # Total nodes in the tree\n",
    "    n_nodes = n_node_func(N)\n",
    "    option_values = np.empty(n_nodes)\n",
    "\n",
    "    # Backward induction through the tree\n",
    "    for j in range(N, -1, -1):  \n",
    "        for i in range(j, -1, -1):  \n",
    "            idx = idx_func(i, j) \n",
    "            price = underlying * (u ** i) * (d ** (j - i))  \n",
    "            option_values[idx] = max(0, z * (price - strike)) \n",
    "\n",
    "            if j < N:  \n",
    "                # Discounted value of continuation\n",
    "                continuation_value = df * (pu * option_values[idx_func(i + 1, j + 1)] + pd * option_values[idx_func(i, j + 1)])\n",
    "                # Take the maximum of intrinsic value and continuation value\n",
    "                option_values[idx] = max(option_values[idx], continuation_value)\n",
    "\n",
    "    return option_values[0] "
   ]
  },
  {
   "cell_type": "code",
   "execution_count": 13,
   "metadata": {},
   "outputs": [],
   "source": [
    "def bt_american_div(call, underlying, strike, ttm, rf, div_amts, div_times, ivol, N):\n",
    "    \n",
    "    if not div_amts or not div_times:\n",
    "        return bt_american(call, underlying, strike, ttm, rf, b, ivol, N)\n",
    "    elif div_times[0] > N:\n",
    "        return bt_american(call, underlying, strike, ttm, rf, b, ivol, N)\n",
    "    \n",
    "    dt = ttm / N\n",
    "    u = np.exp(ivol * np.sqrt(dt))\n",
    "    d = 1 / u\n",
    "    pu = (np.exp(rf * dt) - d) / (u - d)\n",
    "    pd = 1 - pu\n",
    "    df = np.exp(-rf * dt)\n",
    "    z = 1 if call else -1\n",
    "\n",
    "    # Helper functions for node indexing\n",
    "    def n_node_func(n):\n",
    "        return (n + 1) * (n + 2) // 2\n",
    "\n",
    "    def idx_func(i, j):\n",
    "        return n_node_func(j - 1) + i\n",
    "\n",
    "    n_div = len(div_times)\n",
    "    n_nodes = n_node_func(div_times[0])\n",
    "    option_values = np.zeros(n_nodes)\n",
    "\n",
    "    for j in range(div_times[0], -1, -1):\n",
    "        for i in range(j, -1, -1):\n",
    "            idx = idx_func(i, j)\n",
    "            price = underlying * (u ** i) * (d ** (j - i))\n",
    "            \n",
    "            if j < div_times[0]:\n",
    "                # Times before the dividend (backward induction)\n",
    "                option_values[idx] = max(0, z * (price - strike))\n",
    "                option_values[idx] = max(\n",
    "                    option_values[idx],\n",
    "                    df * (pu * option_values[idx_func(i + 1, j + 1)] + pd * option_values[idx_func(i, j + 1)])\n",
    "                )\n",
    "            else:\n",
    "                # Time of the dividend\n",
    "                val_no_exercise = bt_american_div(\n",
    "                    call,\n",
    "                    price - div_amts[0],\n",
    "                    strike,\n",
    "                    ttm - div_times[0] * dt,\n",
    "                    rf,\n",
    "                    div_amts[1:],\n",
    "                    [t - div_times[0] for t in div_times[1:]],\n",
    "                    ivol,\n",
    "                    N - div_times[0]\n",
    "                )\n",
    "                val_exercise = max(0, z * (price - strike))\n",
    "                option_values[idx] = max(val_no_exercise, val_exercise)\n",
    "\n",
    "    return option_values[0]"
   ]
  },
  {
   "cell_type": "code",
   "execution_count": 14,
   "metadata": {},
   "outputs": [],
   "source": [
    "div_date = date(2022, 4, 11)\n",
    "current_date = date(2022, 3, 13)\n",
    "div_days = (div_date - current_date).days\n",
    "ttm_days = int(ttm * 365)  \n",
    "n_points = int(ttm_days * 3)  \n",
    "div_point = div_days * 3  \n",
    "div_amt = 0.88 "
   ]
  },
  {
   "cell_type": "code",
   "execution_count": 15,
   "metadata": {},
   "outputs": [
    {
     "name": "stdout",
     "output_type": "stream",
     "text": [
      "American Call Option Price: 0.2986340478681555\n",
      "American Put Option Price: 14.55932724012951\n"
     ]
    }
   ],
   "source": [
    "# Calculate option values\n",
    "am_call = bt_american_div(True, underlying, strike, ttm, rf, [div_amt], [div_point], ivol, n_points)\n",
    "am_put = bt_american_div(False, underlying, strike, ttm, rf, [div_amt], [div_point], ivol, n_points)\n",
    "\n",
    "# Print the results\n",
    "print(f\"American Call Option Price: {am_call}\")\n",
    "print(f\"American Put Option Price: {am_put}\")"
   ]
  },
  {
   "cell_type": "code",
   "execution_count": 16,
   "metadata": {},
   "outputs": [],
   "source": [
    "def finite_difference_gradient(f, x, delta=1e-5):\n",
    "    x = np.asarray(x)\n",
    "    grad = np.zeros_like(x)\n",
    "    for i in range(len(x)):\n",
    "        x_up = x.copy()\n",
    "        x_down = x.copy()\n",
    "        x_up[i] += delta\n",
    "        x_down[i] -= delta\n",
    "        grad[i] = (f(x_up) - f(x_down)) / (2 * delta)\n",
    "    return grad"
   ]
  },
  {
   "cell_type": "code",
   "execution_count": 17,
   "metadata": {},
   "outputs": [],
   "source": [
    "# Input vector - Ensure all elements are floats\n",
    "x = np.array([float(underlying), float(strike), float(ttm), float(rf), float(ivol)])\n",
    "\n",
    "# Call Option Gradients\n",
    "def f_call(x):\n",
    "    return bt_american_div(True, x[0], x[1], x[2], x[3], [div_amt], [div_point], x[4], n_points)\n",
    "\n",
    "call_grad = finite_difference_gradient(f_call, x)\n",
    "\n",
    "# Gamma for Call Option\n",
    "delta = 1\n",
    "call_gamma = (\n",
    "    bt_american_div(True, underlying + delta, strike, ttm, rf, [div_amt], [div_point], ivol, n_points)\n",
    "    + bt_american_div(True, underlying - delta, strike, ttm, rf, [div_amt], [div_point], ivol, n_points)\n",
    "    - 2 * am_call\n",
    ") / (delta**2)\n",
    "\n",
    "# Dividend Sensitivity for Call Option\n",
    "delta = 1e-5\n",
    "call_div = (\n",
    "    bt_american_div(True, underlying, strike, ttm, rf, [div_amt + delta], [div_point], ivol, n_points) - am_call\n",
    ") / delta"
   ]
  },
  {
   "cell_type": "code",
   "execution_count": 18,
   "metadata": {},
   "outputs": [],
   "source": [
    "# Put Option Gradients\n",
    "def f_put(x):\n",
    "    return bt_american_div(False, x[0], x[1], x[2], x[3], [div_amt], [div_point], x[4], n_points)\n",
    "\n",
    "put_grad = finite_difference_gradient(f_put, x)\n",
    "\n",
    "# Gamma for Put Option\n",
    "delta = 10\n",
    "put_gamma = (\n",
    "    bt_american_div(False, underlying + delta, strike, ttm, rf, [div_amt], [div_point], ivol, n_points)\n",
    "    + bt_american_div(False, underlying - delta, strike, ttm, rf, [div_amt], [div_point], ivol, n_points)\n",
    "    - 2 * am_put\n",
    ") / (delta**2)\n",
    "\n",
    "# Dividend Sensitivity for Put Option\n",
    "delta = 1e-5\n",
    "put_div = (\n",
    "    bt_american_div(False, underlying, strike, ttm, rf, [div_amt + delta], [div_point], ivol, n_points) - am_put\n",
    ") / delta"
   ]
  },
  {
   "cell_type": "code",
   "execution_count": 19,
   "metadata": {},
   "outputs": [
    {
     "name": "stdout",
     "output_type": "stream",
     "text": [
      "     Greeks  Call Option  Put Option\n",
      "0     Delta     0.074842   -0.935932\n",
      "1     Gamma     0.018483    0.015880\n",
      "2      Vega     6.319465    5.667652\n",
      "3     Theta    -7.425581   -0.416989\n",
      "4       Rho     0.887512  -12.334293\n",
      "5  CarryRho          NaN         NaN\n"
     ]
    }
   ],
   "source": [
    "am_df = pd.DataFrame({\n",
    "    \"Greeks\": [\"Delta\", \"Gamma\", \"Vega\", \"Theta\", \"Rho\", \"CarryRho\"],\n",
    "    \"Call Option\": [\n",
    "        call_grad[0],  \n",
    "        call_gamma,    \n",
    "        call_grad[4],  \n",
    "        -call_grad[2], \n",
    "        call_grad[3],  \n",
    "        np.nan   \n",
    "    ],\n",
    "    \"Put Option\": [\n",
    "        put_grad[0],   \n",
    "        put_gamma,     \n",
    "        put_grad[4],   \n",
    "        -put_grad[2],  \n",
    "        put_grad[3],   \n",
    "        np.nan    \n",
    "    ]\n",
    "})\n",
    "\n",
    "print(am_df)"
   ]
  },
  {
   "cell_type": "code",
   "execution_count": 20,
   "metadata": {},
   "outputs": [
    {
     "name": "stdout",
     "output_type": "stream",
     "text": [
      "Dividend Sensitivity for Call Option: -0.021538913125285216\n",
      "Dividend Sensitivity for Put Option: 0.9391384416801428\n"
     ]
    }
   ],
   "source": [
    "print(f\"Dividend Sensitivity for Call Option: {call_div}\")\n",
    "print(f\"Dividend Sensitivity for Put Option: {put_div}\")"
   ]
  },
  {
   "cell_type": "markdown",
   "metadata": {},
   "source": [
    "# Problem 2"
   ]
  },
  {
   "cell_type": "code",
   "execution_count": 21,
   "metadata": {},
   "outputs": [],
   "source": [
    "# Load data\n",
    "original_df_portfolio = pd.read_csv('problem2.csv')\n",
    "df_portfolio = original_df_portfolio.copy()\n",
    "\n",
    "# Load daily AAPL data\n",
    "original_df_prices = pd.read_csv('DailyPrices.csv')\n",
    "df_prices = original_df_prices.copy()\n",
    "df_prices = df_prices[['Date', 'AAPL']]"
   ]
  },
  {
   "cell_type": "code",
   "execution_count": 22,
   "metadata": {},
   "outputs": [],
   "source": [
    "underlying = 165\n",
    "rf = 4.25 / 100\n",
    "\n",
    "div_date = date(2023, 3, 15)\n",
    "current_date = date(2023, 3, 3)\n",
    "expiration_date = date(2023, 4, 21)\n",
    "ttm = (expiration_date - current_date).days / 365\n",
    "div_days = (div_date - current_date).days\n",
    "ttm_days = int(ttm * 365)  \n",
    "n_points = int(ttm_days * 3)  \n",
    "div_point = div_days * 3 \n",
    "div_amt = 1.00"
   ]
  },
  {
   "cell_type": "code",
   "execution_count": 23,
   "metadata": {},
   "outputs": [],
   "source": [
    "returns = return_calculate(df_prices, method=\"LOG\", date_column=\"Date\")\n",
    "returns = returns['AAPL']\n",
    "sd = np.std(returns)"
   ]
  },
  {
   "cell_type": "code",
   "execution_count": 24,
   "metadata": {},
   "outputs": [],
   "source": [
    "def calculate_implied_volatility(call, option_price, underlying, strike, ttm, rf, div_amts, div_times, N):\n",
    "    # Define the objective function to find the root\n",
    "    objective = lambda ivol: bt_american_div(call, underlying, strike, ttm, rf, div_amts, div_times, ivol, N) - option_price\n",
    "    \n",
    "    # Use Brent's method to find the implied volatility that makes the model price equal to the market price\n",
    "    try:\n",
    "        implied_vol = brentq(objective, 1e-5, 5)\n",
    "        return implied_vol\n",
    "    except ValueError:\n",
    "        return np.nan  # Return NaN if the implied volatility is not found"
   ]
  },
  {
   "cell_type": "code",
   "execution_count": 25,
   "metadata": {},
   "outputs": [],
   "source": [
    "# Apply the implied volatility calculation\n",
    "implied_vols = []\n",
    "for _, row in df_portfolio.iterrows():\n",
    "    if row['Type'] == 'Option':\n",
    "        call = row['OptionType'] == 'Call'\n",
    "        implied_vol = calculate_implied_volatility(\n",
    "            call, row['CurrentPrice'], underlying, row['Strike'],\n",
    "            ttm, rf, [div_amt], [div_point], n_points \n",
    "        )\n",
    "    implied_vols.append(implied_vol)\n",
    "\n",
    "df_portfolio['Implied Volatility'] = implied_vols"
   ]
  },
  {
   "cell_type": "code",
   "execution_count": 26,
   "metadata": {},
   "outputs": [],
   "source": [
    "# Define the bt_delta function\n",
    "def bt_delta(call, underlying, strike, ttm, rf, div_amts, div_times, ivol, N):\n",
    "    \n",
    "    # Define the function to calculate option price with varying underlying\n",
    "    def f(_x):\n",
    "        return bt_american_div(call, _x, strike, ttm, rf, div_amts, div_times, ivol, N)\n",
    "    \n",
    "    # Finite difference derivative approximation for Delta\n",
    "    delta_step = 1e-5  \n",
    "    delta = (f(underlying + delta_step) - f(underlying - delta_step)) / (2 * delta_step)\n",
    "    \n",
    "    return delta"
   ]
  },
  {
   "cell_type": "code",
   "execution_count": 27,
   "metadata": {},
   "outputs": [],
   "source": [
    "# Calculate Delta for Each Portfolio\n",
    "portfolio_deltas = {}\n",
    "\n",
    "for portfolio in df_portfolio['Portfolio'].unique():\n",
    "    portfolio_data = df_portfolio[df_portfolio['Portfolio'] == portfolio]\n",
    "    portfolio_delta = 0 \n",
    "\n",
    "    for _, row in portfolio_data.iterrows():\n",
    "        if row['Type'] == 'Option':\n",
    "            call = row['OptionType'] == 'Call'\n",
    "            ivol = row['Implied Volatility'] \n",
    "\n",
    "            # Calculate Delta for the option using bt_delta function\n",
    "            delta_value = bt_delta(\n",
    "                call,\n",
    "                underlying,\n",
    "                row['Strike'],\n",
    "                ttm,\n",
    "                rf,\n",
    "                [div_amt],\n",
    "                [div_point],\n",
    "                ivol,\n",
    "                n_points\n",
    "            ) * row['Holding'] * underlying\n",
    "\n",
    "            portfolio_delta += delta_value\n",
    "\n",
    "        elif row['Type'] == 'Stock':\n",
    "            portfolio_delta += row['Holding'] * underlying\n",
    "\n",
    "    # Store the calculated delta for the portfolio\n",
    "    portfolio_deltas[portfolio] = portfolio_delta"
   ]
  },
  {
   "cell_type": "code",
   "execution_count": 28,
   "metadata": {},
   "outputs": [],
   "source": [
    "# Simulation parameters\n",
    "nSim = 500\n",
    "fwdT = 10     \n",
    "sim_returns = np.random.normal(0, sd, nSim * fwdT)"
   ]
  },
  {
   "cell_type": "code",
   "execution_count": 29,
   "metadata": {},
   "outputs": [],
   "source": [
    "# Collect 10-day returns\n",
    "sim_prices = []\n",
    "for i in range(nSim):\n",
    "    r = 1.0\n",
    "    for j in range(fwdT):\n",
    "        r *= (1 + sim_returns[fwdT * i + j])\n",
    "    sim_prices.append(underlying * r)\n",
    "\n",
    "# Create iterations DataFrame\n",
    "iterations = pd.DataFrame({'iteration': range(1, nSim + 1)})\n",
    "\n",
    "# Cross join portfolio with iterations\n",
    "values = df_portfolio.merge(iterations, how='cross')"
   ]
  },
  {
   "cell_type": "code",
   "execution_count": 30,
   "metadata": {},
   "outputs": [],
   "source": [
    "# Precalculate forward time-to-maturity\n",
    "def calculate_fwd_ttm(row):\n",
    "    if row['Type'] == 'Option':\n",
    "        return (expiration_date - current_date).days - fwdT / 365\n",
    "    else:\n",
    "        return None\n",
    "\n",
    "values['fwd_ttm'] = values.apply(calculate_fwd_ttm, axis=1)"
   ]
  },
  {
   "cell_type": "code",
   "execution_count": 29,
   "metadata": {},
   "outputs": [
    {
     "ename": "KeyboardInterrupt",
     "evalue": "",
     "output_type": "error",
     "traceback": [
      "\u001b[0;31m---------------------------------------------------------------------------\u001b[0m",
      "\u001b[0;31mKeyboardInterrupt\u001b[0m                         Traceback (most recent call last)",
      "\u001b[0;32m/var/folders/f8/gztmghwd1w7chkp8k88bn07m0000gn/T/ipykernel_19495/2863245168.py\u001b[0m in \u001b[0;36m<module>\u001b[0;34m\u001b[0m\n\u001b[1;32m     11\u001b[0m \u001b[0;34m\u001b[0m\u001b[0m\n\u001b[1;32m     12\u001b[0m     \u001b[0;32mif\u001b[0m \u001b[0mrow\u001b[0m\u001b[0;34m[\u001b[0m\u001b[0;34m'Type'\u001b[0m\u001b[0;34m]\u001b[0m \u001b[0;34m==\u001b[0m \u001b[0;34m'Option'\u001b[0m\u001b[0;34m:\u001b[0m\u001b[0;34m\u001b[0m\u001b[0;34m\u001b[0m\u001b[0m\n\u001b[0;32m---> 13\u001b[0;31m         simulated_value[i] = row['Holding'] * bt_american_div(\n\u001b[0m\u001b[1;32m     14\u001b[0m             \u001b[0mrow\u001b[0m\u001b[0;34m[\u001b[0m\u001b[0;34m'OptionType'\u001b[0m\u001b[0;34m]\u001b[0m \u001b[0;34m==\u001b[0m \u001b[0;34m'Call'\u001b[0m\u001b[0;34m,\u001b[0m\u001b[0;34m\u001b[0m\u001b[0;34m\u001b[0m\u001b[0m\n\u001b[1;32m     15\u001b[0m             \u001b[0msimulated_price\u001b[0m\u001b[0;34m,\u001b[0m\u001b[0;34m\u001b[0m\u001b[0;34m\u001b[0m\u001b[0m\n",
      "\u001b[0;32m/var/folders/f8/gztmghwd1w7chkp8k88bn07m0000gn/T/ipykernel_19495/3349160891.py\u001b[0m in \u001b[0;36mbt_american_div\u001b[0;34m(call, underlying, strike, ttm, rf, div_amts, div_times, ivol, N)\u001b[0m\n\u001b[1;32m     39\u001b[0m             \u001b[0;32melse\u001b[0m\u001b[0;34m:\u001b[0m\u001b[0;34m\u001b[0m\u001b[0;34m\u001b[0m\u001b[0m\n\u001b[1;32m     40\u001b[0m                 \u001b[0;31m# Time of the dividend\u001b[0m\u001b[0;34m\u001b[0m\u001b[0;34m\u001b[0m\u001b[0m\n\u001b[0;32m---> 41\u001b[0;31m                 val_no_exercise = bt_american_div(\n\u001b[0m\u001b[1;32m     42\u001b[0m                     \u001b[0mcall\u001b[0m\u001b[0;34m,\u001b[0m\u001b[0;34m\u001b[0m\u001b[0;34m\u001b[0m\u001b[0m\n\u001b[1;32m     43\u001b[0m                     \u001b[0mprice\u001b[0m \u001b[0;34m-\u001b[0m \u001b[0mdiv_amts\u001b[0m\u001b[0;34m[\u001b[0m\u001b[0;36m0\u001b[0m\u001b[0;34m]\u001b[0m\u001b[0;34m,\u001b[0m\u001b[0;34m\u001b[0m\u001b[0;34m\u001b[0m\u001b[0m\n",
      "\u001b[0;32m/var/folders/f8/gztmghwd1w7chkp8k88bn07m0000gn/T/ipykernel_19495/3349160891.py\u001b[0m in \u001b[0;36mbt_american_div\u001b[0;34m(call, underlying, strike, ttm, rf, div_amts, div_times, ivol, N)\u001b[0m\n\u001b[1;32m      2\u001b[0m \u001b[0;34m\u001b[0m\u001b[0m\n\u001b[1;32m      3\u001b[0m     \u001b[0;32mif\u001b[0m \u001b[0;32mnot\u001b[0m \u001b[0mdiv_amts\u001b[0m \u001b[0;32mor\u001b[0m \u001b[0;32mnot\u001b[0m \u001b[0mdiv_times\u001b[0m\u001b[0;34m:\u001b[0m\u001b[0;34m\u001b[0m\u001b[0;34m\u001b[0m\u001b[0m\n\u001b[0;32m----> 4\u001b[0;31m         \u001b[0;32mreturn\u001b[0m \u001b[0mbt_american\u001b[0m\u001b[0;34m(\u001b[0m\u001b[0mcall\u001b[0m\u001b[0;34m,\u001b[0m \u001b[0munderlying\u001b[0m\u001b[0;34m,\u001b[0m \u001b[0mstrike\u001b[0m\u001b[0;34m,\u001b[0m \u001b[0mttm\u001b[0m\u001b[0;34m,\u001b[0m \u001b[0mrf\u001b[0m\u001b[0;34m,\u001b[0m \u001b[0mb\u001b[0m\u001b[0;34m,\u001b[0m \u001b[0mivol\u001b[0m\u001b[0;34m,\u001b[0m \u001b[0mN\u001b[0m\u001b[0;34m)\u001b[0m\u001b[0;34m\u001b[0m\u001b[0;34m\u001b[0m\u001b[0m\n\u001b[0m\u001b[1;32m      5\u001b[0m     \u001b[0;32melif\u001b[0m \u001b[0mdiv_times\u001b[0m\u001b[0;34m[\u001b[0m\u001b[0;36m0\u001b[0m\u001b[0;34m]\u001b[0m \u001b[0;34m>\u001b[0m \u001b[0mN\u001b[0m\u001b[0;34m:\u001b[0m\u001b[0;34m\u001b[0m\u001b[0;34m\u001b[0m\u001b[0m\n\u001b[1;32m      6\u001b[0m         \u001b[0;32mreturn\u001b[0m \u001b[0mbt_american\u001b[0m\u001b[0;34m(\u001b[0m\u001b[0mcall\u001b[0m\u001b[0;34m,\u001b[0m \u001b[0munderlying\u001b[0m\u001b[0;34m,\u001b[0m \u001b[0mstrike\u001b[0m\u001b[0;34m,\u001b[0m \u001b[0mttm\u001b[0m\u001b[0;34m,\u001b[0m \u001b[0mrf\u001b[0m\u001b[0;34m,\u001b[0m \u001b[0mb\u001b[0m\u001b[0;34m,\u001b[0m \u001b[0mivol\u001b[0m\u001b[0;34m,\u001b[0m \u001b[0mN\u001b[0m\u001b[0;34m)\u001b[0m\u001b[0;34m\u001b[0m\u001b[0;34m\u001b[0m\u001b[0m\n",
      "\u001b[0;32m/var/folders/f8/gztmghwd1w7chkp8k88bn07m0000gn/T/ipykernel_19495/44867908.py\u001b[0m in \u001b[0;36mbt_american\u001b[0;34m(call, underlying, strike, ttm, rf, b, ivol, N)\u001b[0m\n\u001b[1;32m     25\u001b[0m             \u001b[0midx\u001b[0m \u001b[0;34m=\u001b[0m \u001b[0midx_func\u001b[0m\u001b[0;34m(\u001b[0m\u001b[0mi\u001b[0m\u001b[0;34m,\u001b[0m \u001b[0mj\u001b[0m\u001b[0;34m)\u001b[0m\u001b[0;34m\u001b[0m\u001b[0;34m\u001b[0m\u001b[0m\n\u001b[1;32m     26\u001b[0m             \u001b[0mprice\u001b[0m \u001b[0;34m=\u001b[0m \u001b[0munderlying\u001b[0m \u001b[0;34m*\u001b[0m \u001b[0;34m(\u001b[0m\u001b[0mu\u001b[0m \u001b[0;34m**\u001b[0m \u001b[0mi\u001b[0m\u001b[0;34m)\u001b[0m \u001b[0;34m*\u001b[0m \u001b[0;34m(\u001b[0m\u001b[0md\u001b[0m \u001b[0;34m**\u001b[0m \u001b[0;34m(\u001b[0m\u001b[0mj\u001b[0m \u001b[0;34m-\u001b[0m \u001b[0mi\u001b[0m\u001b[0;34m)\u001b[0m\u001b[0;34m)\u001b[0m\u001b[0;34m\u001b[0m\u001b[0;34m\u001b[0m\u001b[0m\n\u001b[0;32m---> 27\u001b[0;31m             \u001b[0moption_values\u001b[0m\u001b[0;34m[\u001b[0m\u001b[0midx\u001b[0m\u001b[0;34m]\u001b[0m \u001b[0;34m=\u001b[0m \u001b[0mmax\u001b[0m\u001b[0;34m(\u001b[0m\u001b[0;36m0\u001b[0m\u001b[0;34m,\u001b[0m \u001b[0mz\u001b[0m \u001b[0;34m*\u001b[0m \u001b[0;34m(\u001b[0m\u001b[0mprice\u001b[0m \u001b[0;34m-\u001b[0m \u001b[0mstrike\u001b[0m\u001b[0;34m)\u001b[0m\u001b[0;34m)\u001b[0m\u001b[0;34m\u001b[0m\u001b[0;34m\u001b[0m\u001b[0m\n\u001b[0m\u001b[1;32m     28\u001b[0m \u001b[0;34m\u001b[0m\u001b[0m\n\u001b[1;32m     29\u001b[0m             \u001b[0;32mif\u001b[0m \u001b[0mj\u001b[0m \u001b[0;34m<\u001b[0m \u001b[0mN\u001b[0m\u001b[0;34m:\u001b[0m\u001b[0;34m\u001b[0m\u001b[0;34m\u001b[0m\u001b[0m\n",
      "\u001b[0;31mKeyboardInterrupt\u001b[0m: "
     ]
    }
   ],
   "source": [
    "# Initialize result arrays\n",
    "nVals = len(values)\n",
    "simulated_value = np.zeros(nVals)\n",
    "current_value = np.zeros(nVals)\n",
    "pnl = np.zeros(nVals)\n",
    "\n",
    "# Iterate through each row of the DataFrame\n",
    "for i, row in values.iterrows():\n",
    "    simulated_price = sim_prices[row['iteration'] - 1]  \n",
    "    current_value[i] = row['Holding'] * row['CurrentPrice'] \n",
    "    \n",
    "    if row['Type'] == 'Option':\n",
    "        simulated_value[i] = row['Holding'] * bt_american_div(\n",
    "            row['OptionType'] == 'Call',\n",
    "            simulated_price,\n",
    "            row['Strike'],\n",
    "            row['fwd_ttm'],\n",
    "            rf,\n",
    "            [div_amt],\n",
    "            [(div_days - fwdT) * 3],  \n",
    "            row['Implied Volatility'],\n",
    "            int(row['fwd_ttm'] * 365 * 3) \n",
    "        )\n",
    "    elif row['Type'] == 'Stock':\n",
    "        simulated_value[i] = row['Holding'] * simulated_price\n",
    "    \n",
    "    # PnL calculation\n",
    "    pnl[i] = simulated_value[i] - current_value[i]\n",
    "\n",
    "# Add calculated columns back to the DataFrame\n",
    "values['simulatedValue'] = simulated_value\n",
    "values['pnl'] = pnl\n",
    "values['currentValue'] = current_value"
   ]
  },
  {
   "cell_type": "code",
   "execution_count": 33,
   "metadata": {},
   "outputs": [
    {
     "name": "stdout",
     "output_type": "stream",
     "text": [
      "      Portfolio  PortfolioDelta          Mean        DN_VaR         DN_ES\n",
      "0      Straddle    1.201974e+02  1.201974e+02  1.452452e+03  1.821434e+03\n",
      "1       SynLong    2.098026e+02  2.098026e+02  2.535232e+03  3.179283e+03\n",
      "2    CallSpread    0.000000e+00  0.000000e+00  0.000000e+00  0.000000e+00\n",
      "3     PutSpread   -2.241398e+01 -2.241398e+01  2.708480e+02  3.396544e+02\n",
      "4         Stock    1.650000e+02  1.650000e+02  1.993842e+03  2.500358e+03\n",
      "5         Call     1.650000e+02  1.650000e+02  1.993842e+03  2.500358e+03\n",
      "6          Put    -4.480259e+01 -4.480259e+01  5.413896e+02  6.789244e+02\n",
      "7   CoveredCall   -5.237325e-08 -5.237325e-08  6.328727e-07  7.936478e-07\n",
      "8  ProtectedPut    1.360388e+02  1.360388e+02  1.643878e+03  2.061489e+03\n"
     ]
    }
   ],
   "source": [
    "# Convert portfolio_deltas dictionary to a DataFrame\n",
    "portfolio_deltas_df = pd.DataFrame(list(portfolio_deltas.items()), columns=['Portfolio', 'PortfolioDelta'])\n",
    "\n",
    "# Parameters for VaR and ES calculations\n",
    "quantile_05 = norm.ppf(0.05)  \n",
    "sqrt_10 = np.sqrt(10)  \n",
    "\n",
    "# Add Mean (Portfolio Delta * Current Underlying Price)\n",
    "portfolio_deltas_df['Mean'] = portfolio_deltas_df['PortfolioDelta']\n",
    "\n",
    "# Delta-Normal VaR as $ loss\n",
    "portfolio_deltas_df['DN_VaR'] = abs(\n",
    "    quantile_05 * sqrt_10 * sd * portfolio_deltas_df['PortfolioDelta'] * underlying\n",
    ")\n",
    "\n",
    "# Delta-Normal ES as $ loss\n",
    "portfolio_deltas_df['DN_ES'] = abs(\n",
    "    (sqrt_10 * sd * norm.pdf(quantile_05) / 0.05) * portfolio_deltas_df['PortfolioDelta'] * underlying\n",
    ")\n",
    "\n",
    "# Display results\n",
    "print(portfolio_deltas_df)"
   ]
  },
  {
   "cell_type": "markdown",
   "metadata": {},
   "source": [
    "# Problem 3"
   ]
  },
  {
   "cell_type": "code",
   "execution_count": 31,
   "metadata": {},
   "outputs": [],
   "source": [
    "# Load data\n",
    "ff_R = pd.read_csv(\"F-F_Research_Data_Factors_daily.csv\")\n",
    "ff_M = pd.read_csv(\"F-F_Momentum_Factor_daily.csv\")\n",
    "prices = pd.read_csv(\"DailyPrices.csv\")"
   ]
  },
  {
   "cell_type": "code",
   "execution_count": 32,
   "metadata": {},
   "outputs": [],
   "source": [
    "rf = 0.05\n",
    "returns = return_calculate(prices, method=\"LOG\", date_column=\"Date\")\n",
    "\n",
    "# Convert the Date column to string type to handle any unexpected formats\n",
    "ff_R['Date'] = ff_R['Date'].astype(str)\n",
    "ff_M['Date'] = ff_M['Date'].astype(str)\n",
    "\n",
    "# Ensure only date rows are processed by filtering out non-date entries\n",
    "ff_R = ff_R[ff_R['Date'].str.isnumeric()]\n",
    "ff_M = ff_M[ff_M['Date'].str.isnumeric()]"
   ]
  },
  {
   "cell_type": "code",
   "execution_count": 33,
   "metadata": {},
   "outputs": [],
   "source": [
    "# Convert Date columns and adjust factor returns\n",
    "ff_R['Date'] = pd.to_datetime(ff_R['Date'], format='%Y%m%d')\n",
    "ff_M['Date'] = pd.to_datetime(ff_M['Date'], format='%Y%m%d')\n",
    "ff_R = ff_R.rename(columns={ff_R.columns[-1]: 'Mom'}) \n",
    "ff_R.iloc[:, 1:] /= 100  \n",
    "\n",
    "# Merge Fama-French 3-factor data with Momentum data\n",
    "ff = pd.merge(ff_R, ff_M, on='Date')\n",
    "returns['Date'] = pd.to_datetime(returns['Date']).dt.normalize()"
   ]
  },
  {
   "cell_type": "code",
   "execution_count": 34,
   "metadata": {},
   "outputs": [],
   "source": [
    "# List of stocks\n",
    "stocks = ['AAPL', 'META', 'UNH', 'MA', 'MSFT', 'NVDA', 'HD', 'PFE', 'AMZN', 'BRK-B', \n",
    "          'PG', 'XOM', 'TSLA', 'JPM', 'V', 'DIS', 'GOOGL', 'JNJ', 'BAC', 'CSCO']\n",
    "\n",
    "# Join stock returns with the factors data\n",
    "data = pd.merge(returns[['Date'] + stocks], ff, on='Date')"
   ]
  },
  {
   "cell_type": "code",
   "execution_count": 35,
   "metadata": {},
   "outputs": [],
   "source": [
    "# Regression for each stock to find betas\n",
    "x_names = [\"Mkt-RF\", \"SMB\", \"HML\", \"Mom\"]\n",
    "X = add_constant(data[x_names])\n",
    "Y = data[stocks]\n",
    "\n",
    "# Calculate betas for each stock using OLS\n",
    "betas = np.array([OLS(Y[col], X).fit().params.values for col in Y.columns])"
   ]
  },
  {
   "cell_type": "code",
   "execution_count": 36,
   "metadata": {},
   "outputs": [],
   "source": [
    "# Calculate the means of the last 10 years of factor returns\n",
    "ff_10yr = ff[ff['Date'] >= '2014-09-30']\n",
    "means = np.array([0.0] + list(ff_10yr[x_names].mean()))\n",
    "\n",
    "# Calculate expected annual returns and covariance matrix\n",
    "stock_mean = np.log(1 + betas @ means) * 365 + rf\n",
    "log_returns = np.log(1 + data[stocks])\n",
    "covar = log_returns.cov() * 365"
   ]
  },
  {
   "cell_type": "code",
   "execution_count": 37,
   "metadata": {},
   "outputs": [],
   "source": [
    "# Define the Sharpe ratio function for maximization\n",
    "def sharpe_ratio(weights, stock_mean, covar, rf):\n",
    "    portfolio_return = np.dot(weights, stock_mean)\n",
    "    portfolio_volatility = np.sqrt(np.dot(weights.T, np.dot(covar, weights)))\n",
    "    return -((portfolio_return - rf) / portfolio_volatility)  "
   ]
  },
  {
   "cell_type": "code",
   "execution_count": 38,
   "metadata": {
    "scrolled": true
   },
   "outputs": [],
   "source": [
    "# Optimization to find super-efficient portfolio weights\n",
    "n = len(stocks)\n",
    "initial_weights = np.array([1 / n] * n)\n",
    "\n",
    "# Constraints: sum of weights = 1 and each weight >= 0\n",
    "constraints = ({'type': 'eq', 'fun': lambda x: np.sum(x) - 1})\n",
    "bounds = [(0, 1) for _ in range(n)]\n",
    "\n",
    "# Perform optimization\n",
    "result = minimize(sharpe_ratio, initial_weights, args=(stock_mean, covar, rf), method='SLSQP', bounds=bounds, constraints=constraints)\n",
    "\n",
    "# Get the optimized weights\n",
    "opt_weights = result.x.round(4)"
   ]
  },
  {
   "cell_type": "code",
   "execution_count": 39,
   "metadata": {},
   "outputs": [
    {
     "name": "stdout",
     "output_type": "stream",
     "text": [
      "    Stock  Weight    Return\n",
      "0    AAPL  0.0000 -2.253823\n",
      "1    META  0.0026  1.172346\n",
      "2     UNH  0.0000 -0.114615\n",
      "3      MA  0.0000  1.773019\n",
      "4    MSFT  0.0000 -0.368813\n",
      "5    NVDA  0.0000 -3.702442\n",
      "6      HD  0.1057  3.037572\n",
      "7     PFE  0.0000 -5.385713\n",
      "8    AMZN  0.0000 -0.014672\n",
      "9   BRK-B  0.1501  2.170457\n",
      "10     PG  0.4020  2.943831\n",
      "11    XOM  0.0000  1.502708\n",
      "12   TSLA  0.0000 -4.043305\n",
      "13    JPM  0.0000  0.183736\n",
      "14      V  0.0000  0.364972\n",
      "15    DIS  0.0530  2.259346\n",
      "16  GOOGL  0.0000 -3.157294\n",
      "17    JNJ  0.0653  1.943940\n",
      "18    BAC  0.0000  0.016937\n",
      "19   CSCO  0.2213  3.712624\n",
      "Expected Return = 2.9016135536959844\n",
      "Expected Volatility = 0.12554491218852082\n",
      "Expected Sharpe Ratio = 22.713892061420275\n"
     ]
    }
   ],
   "source": [
    "# Display results\n",
    "opt_df = pd.DataFrame({\"Stock\": stocks, \"Weight\": opt_weights, \"Return\": stock_mean})\n",
    "\n",
    "# Print outputs\n",
    "print(opt_df)\n",
    "print(\"Expected Return =\", np.dot(stock_mean, opt_weights))\n",
    "print(\"Expected Volatility =\", np.sqrt(np.dot(opt_weights.T, np.dot(covar, opt_weights))))\n",
    "print(\"Expected Sharpe Ratio =\", -result.fun)  "
   ]
  },
  {
   "cell_type": "code",
   "execution_count": null,
   "metadata": {},
   "outputs": [],
   "source": []
  }
 ],
 "metadata": {
  "kernelspec": {
   "display_name": "Python 3 (ipykernel)",
   "language": "python",
   "name": "python3"
  },
  "language_info": {
   "codemirror_mode": {
    "name": "ipython",
    "version": 3
   },
   "file_extension": ".py",
   "mimetype": "text/x-python",
   "name": "python",
   "nbconvert_exporter": "python",
   "pygments_lexer": "ipython3",
   "version": "3.9.13"
  }
 },
 "nbformat": 4,
 "nbformat_minor": 2
}
